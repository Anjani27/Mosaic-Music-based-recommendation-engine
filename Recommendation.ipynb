{
 "cells": [
  {
   "cell_type": "markdown",
   "id": "a34c64d5",
   "metadata": {},
   "source": [
    "#Installing all dependent libraries"
   ]
  },
  {
   "cell_type": "code",
   "execution_count": 21,
   "id": "49bd6500",
   "metadata": {},
   "outputs": [
    {
     "name": "stdout",
     "output_type": "stream",
     "text": [
      "Requirement already satisfied: numpy in c:\\users\\hp\\anaconda3\\lib\\site-packages (1.21.5)Note: you may need to restart the kernel to use updated packages.\n",
      "\n",
      "Requirement already satisfied: pandas in c:\\users\\hp\\anaconda3\\lib\\site-packages (1.4.2)\n",
      "Requirement already satisfied: python-dateutil>=2.8.1 in c:\\users\\hp\\anaconda3\\lib\\site-packages (from pandas) (2.8.2)\n",
      "Requirement already satisfied: pytz>=2020.1 in c:\\users\\hp\\anaconda3\\lib\\site-packages (from pandas) (2021.3)\n",
      "Requirement already satisfied: numpy>=1.18.5 in c:\\users\\hp\\anaconda3\\lib\\site-packages (from pandas) (1.21.5)\n",
      "Requirement already satisfied: six>=1.5 in c:\\users\\hp\\anaconda3\\lib\\site-packages (from python-dateutil>=2.8.1->pandas) (1.16.0)\n",
      "Note: you may need to restart the kernel to use updated packages.\n",
      "Requirement already satisfied: sklearn in c:\\users\\hp\\anaconda3\\lib\\site-packages (0.0)Note: you may need to restart the kernel to use updated packages.\n",
      "Requirement already satisfied: scikit-learn in c:\\users\\hp\\anaconda3\\lib\\site-packages (from sklearn) (1.0.2)\n",
      "Requirement already satisfied: numpy>=1.14.6 in c:\\users\\hp\\anaconda3\\lib\\site-packages (from scikit-learn->sklearn) (1.21.5)\n",
      "Requirement already satisfied: threadpoolctl>=2.0.0 in c:\\users\\hp\\anaconda3\\lib\\site-packages (from scikit-learn->sklearn) (2.2.0)\n",
      "Requirement already satisfied: scipy>=1.1.0 in c:\\users\\hp\\anaconda3\\lib\\site-packages (from scikit-learn->sklearn) (1.7.3)\n",
      "Requirement already satisfied: joblib>=0.11 in c:\\users\\hp\\anaconda3\\lib\\site-packages (from scikit-learn->sklearn) (1.1.0)\n",
      "\n",
      "Requirement already satisfied: seaborn in c:\\users\\hp\\anaconda3\\lib\\site-packages (0.11.2)\n",
      "Requirement already satisfied: matplotlib>=2.2 in c:\\users\\hp\\anaconda3\\lib\\site-packages (from seaborn) (3.5.1)\n",
      "Requirement already satisfied: scipy>=1.0 in c:\\users\\hp\\anaconda3\\lib\\site-packages (from seaborn) (1.7.3)\n",
      "Requirement already satisfied: numpy>=1.15 in c:\\users\\hp\\anaconda3\\lib\\site-packages (from seaborn) (1.21.5)\n",
      "Requirement already satisfied: pandas>=0.23 in c:\\users\\hp\\anaconda3\\lib\\site-packages (from seaborn) (1.4.2)\n",
      "Requirement already satisfied: packaging>=20.0 in c:\\users\\hp\\anaconda3\\lib\\site-packages (from matplotlib>=2.2->seaborn) (21.3)\n",
      "Requirement already satisfied: pyparsing>=2.2.1 in c:\\users\\hp\\anaconda3\\lib\\site-packages (from matplotlib>=2.2->seaborn) (3.0.4)\n",
      "Requirement already satisfied: python-dateutil>=2.7 in c:\\users\\hp\\anaconda3\\lib\\site-packages (from matplotlib>=2.2->seaborn) (2.8.2)\n",
      "Requirement already satisfied: fonttools>=4.22.0 in c:\\users\\hp\\anaconda3\\lib\\site-packages (from matplotlib>=2.2->seaborn) (4.25.0)\n",
      "Requirement already satisfied: cycler>=0.10 in c:\\users\\hp\\anaconda3\\lib\\site-packages (from matplotlib>=2.2->seaborn) (0.11.0)\n",
      "Requirement already satisfied: kiwisolver>=1.0.1 in c:\\users\\hp\\anaconda3\\lib\\site-packages (from matplotlib>=2.2->seaborn) (1.3.2)\n",
      "Requirement already satisfied: pillow>=6.2.0 in c:\\users\\hp\\anaconda3\\lib\\site-packages (from matplotlib>=2.2->seaborn) (9.0.1)\n",
      "Requirement already satisfied: pytz>=2020.1 in c:\\users\\hp\\anaconda3\\lib\\site-packages (from pandas>=0.23->seaborn) (2021.3)\n",
      "Requirement already satisfied: six>=1.5 in c:\\users\\hp\\anaconda3\\lib\\site-packages (from python-dateutil>=2.7->matplotlib>=2.2->seaborn) (1.16.0)\n",
      "Note: you may need to restart the kernel to use updated packages.\n"
     ]
    }
   ],
   "source": [
    "%pip install numpy\n",
    "%pip install pandas\n",
    "%pip install sklearn\n",
    "%pip install seaborn"
   ]
  },
  {
   "cell_type": "code",
   "execution_count": 22,
   "id": "9ab268f9",
   "metadata": {},
   "outputs": [],
   "source": [
    "#Importing all dependent libraries"
   ]
  },
  {
   "cell_type": "code",
   "execution_count": 23,
   "id": "67290803",
   "metadata": {},
   "outputs": [],
   "source": [
    "import pandas as pd\n",
    "import numpy as np\n",
    "import seaborn as sb"
   ]
  },
  {
   "cell_type": "code",
   "execution_count": 24,
   "id": "a2d48035",
   "metadata": {},
   "outputs": [],
   "source": [
    "#Reading the csv file spotify data set and preprocessing the dataset according to required features"
   ]
  },
  {
   "cell_type": "code",
   "execution_count": 25,
   "id": "fa45c4ce",
   "metadata": {},
   "outputs": [
    {
     "name": "stdout",
     "output_type": "stream",
     "text": [
      "Index(['track_id', 'track_name', 'track_artist', 'lyrics', 'track_popularity',\n",
      "       'track_album_id', 'track_album_name', 'track_album_release_date',\n",
      "       'playlist_genre', 'playlist_subgenre', 'danceability', 'energy', 'key',\n",
      "       'loudness', 'mode', 'speechiness', 'acousticness', 'instrumentalness',\n",
      "       'liveness', 'valence', 'tempo', 'duration_ms'],\n",
      "      dtype='object')\n",
      "13726\n"
     ]
    }
   ],
   "source": [
    "data = pd.read_csv('spotify_songs.csv')\n",
    "data = data[data['language'] == 'en']\n",
    "data.drop(columns=['language', 'playlist_name', 'playlist_id'], inplace=True)\n",
    "data = data.drop_duplicates(subset=['track_name', 'track_artist'])\n",
    "data['track_album_release_date'] = pd.to_datetime(data['track_album_release_date'], infer_datetime_format=True)\n",
    "data = data.sort_values(by=['track_album_release_date'])\n",
    "data.reset_index(drop=True, inplace=True)\n",
    "print(data.columns)\n",
    "songs_count = data.shape[0]\n",
    "print(songs_count)"
   ]
  },
  {
   "cell_type": "code",
   "execution_count": 26,
   "id": "2c4abf7a",
   "metadata": {},
   "outputs": [],
   "source": [
    "#Sectioning off data for recommendation subsystem"
   ]
  },
  {
   "cell_type": "code",
   "execution_count": 27,
   "id": "a4ae7567",
   "metadata": {},
   "outputs": [],
   "source": [
    "lyrics_data = data['lyrics']\n",
    "energy_data = data[['danceability', 'tempo', 'acousticness']]\n",
    "mood_data = data[['mode', 'key', 'valence']]"
   ]
  },
  {
   "cell_type": "code",
   "execution_count": 28,
   "id": "99924d7c",
   "metadata": {},
   "outputs": [],
   "source": [
    "#Using cosine similarity and Tfidf for making lyrics comparable"
   ]
  },
  {
   "cell_type": "code",
   "execution_count": 29,
   "id": "29ebf87e",
   "metadata": {},
   "outputs": [
    {
     "ename": "MemoryError",
     "evalue": "Unable to allocate 679. MiB for an array with shape (177942018,) and data type int32",
     "output_type": "error",
     "traceback": [
      "\u001b[1;31m---------------------------------------------------------------------------\u001b[0m",
      "\u001b[1;31mMemoryError\u001b[0m                               Traceback (most recent call last)",
      "Input \u001b[1;32mIn [29]\u001b[0m, in \u001b[0;36m<cell line: 6>\u001b[1;34m()\u001b[0m\n\u001b[0;32m      4\u001b[0m lyric_vectorizer \u001b[38;5;241m=\u001b[39m TfidfVectorizer(stop_words\u001b[38;5;241m=\u001b[39m\u001b[38;5;124m'\u001b[39m\u001b[38;5;124menglish\u001b[39m\u001b[38;5;124m'\u001b[39m)\n\u001b[0;32m      5\u001b[0m lyrics_data \u001b[38;5;241m=\u001b[39m lyric_vectorizer\u001b[38;5;241m.\u001b[39mfit_transform(lyrics_data)\n\u001b[1;32m----> 6\u001b[0m lyric_similarity_matrix \u001b[38;5;241m=\u001b[39m \u001b[43mcosine_similarity\u001b[49m\u001b[43m(\u001b[49m\u001b[43mlyrics_data\u001b[49m\u001b[43m)\u001b[49m\n",
      "File \u001b[1;32m~\\anaconda3\\lib\\site-packages\\sklearn\\metrics\\pairwise.py:1259\u001b[0m, in \u001b[0;36mcosine_similarity\u001b[1;34m(X, Y, dense_output)\u001b[0m\n\u001b[0;32m   1256\u001b[0m \u001b[38;5;28;01melse\u001b[39;00m:\n\u001b[0;32m   1257\u001b[0m     Y_normalized \u001b[38;5;241m=\u001b[39m normalize(Y, copy\u001b[38;5;241m=\u001b[39m\u001b[38;5;28;01mTrue\u001b[39;00m)\n\u001b[1;32m-> 1259\u001b[0m K \u001b[38;5;241m=\u001b[39m \u001b[43msafe_sparse_dot\u001b[49m\u001b[43m(\u001b[49m\u001b[43mX_normalized\u001b[49m\u001b[43m,\u001b[49m\u001b[43m \u001b[49m\u001b[43mY_normalized\u001b[49m\u001b[38;5;241;43m.\u001b[39;49m\u001b[43mT\u001b[49m\u001b[43m,\u001b[49m\u001b[43m \u001b[49m\u001b[43mdense_output\u001b[49m\u001b[38;5;241;43m=\u001b[39;49m\u001b[43mdense_output\u001b[49m\u001b[43m)\u001b[49m\n\u001b[0;32m   1261\u001b[0m \u001b[38;5;28;01mreturn\u001b[39;00m K\n",
      "File \u001b[1;32m~\\anaconda3\\lib\\site-packages\\sklearn\\utils\\extmath.py:153\u001b[0m, in \u001b[0;36msafe_sparse_dot\u001b[1;34m(a, b, dense_output)\u001b[0m\n\u001b[0;32m    151\u001b[0m         ret \u001b[38;5;241m=\u001b[39m np\u001b[38;5;241m.\u001b[39mdot(a, b)\n\u001b[0;32m    152\u001b[0m \u001b[38;5;28;01melse\u001b[39;00m:\n\u001b[1;32m--> 153\u001b[0m     ret \u001b[38;5;241m=\u001b[39m \u001b[43ma\u001b[49m\u001b[43m \u001b[49m\u001b[38;5;241;43m@\u001b[39;49m\u001b[43m \u001b[49m\u001b[43mb\u001b[49m\n\u001b[0;32m    155\u001b[0m \u001b[38;5;28;01mif\u001b[39;00m (\n\u001b[0;32m    156\u001b[0m     sparse\u001b[38;5;241m.\u001b[39missparse(a)\n\u001b[0;32m    157\u001b[0m     \u001b[38;5;129;01mand\u001b[39;00m sparse\u001b[38;5;241m.\u001b[39missparse(b)\n\u001b[0;32m    158\u001b[0m     \u001b[38;5;129;01mand\u001b[39;00m dense_output\n\u001b[0;32m    159\u001b[0m     \u001b[38;5;129;01mand\u001b[39;00m \u001b[38;5;28mhasattr\u001b[39m(ret, \u001b[38;5;124m\"\u001b[39m\u001b[38;5;124mtoarray\u001b[39m\u001b[38;5;124m\"\u001b[39m)\n\u001b[0;32m    160\u001b[0m ):\n\u001b[0;32m    161\u001b[0m     \u001b[38;5;28;01mreturn\u001b[39;00m ret\u001b[38;5;241m.\u001b[39mtoarray()\n",
      "File \u001b[1;32m~\\anaconda3\\lib\\site-packages\\scipy\\sparse\\base.py:560\u001b[0m, in \u001b[0;36mspmatrix.__matmul__\u001b[1;34m(self, other)\u001b[0m\n\u001b[0;32m    557\u001b[0m \u001b[38;5;28;01mif\u001b[39;00m isscalarlike(other):\n\u001b[0;32m    558\u001b[0m     \u001b[38;5;28;01mraise\u001b[39;00m \u001b[38;5;167;01mValueError\u001b[39;00m(\u001b[38;5;124m\"\u001b[39m\u001b[38;5;124mScalar operands are not allowed, \u001b[39m\u001b[38;5;124m\"\u001b[39m\n\u001b[0;32m    559\u001b[0m                      \u001b[38;5;124m\"\u001b[39m\u001b[38;5;124muse \u001b[39m\u001b[38;5;124m'\u001b[39m\u001b[38;5;124m*\u001b[39m\u001b[38;5;124m'\u001b[39m\u001b[38;5;124m instead\u001b[39m\u001b[38;5;124m\"\u001b[39m)\n\u001b[1;32m--> 560\u001b[0m \u001b[38;5;28;01mreturn\u001b[39;00m \u001b[38;5;28;43mself\u001b[39;49m\u001b[38;5;241;43m.\u001b[39;49m\u001b[38;5;21;43m__mul__\u001b[39;49m\u001b[43m(\u001b[49m\u001b[43mother\u001b[49m\u001b[43m)\u001b[49m\n",
      "File \u001b[1;32m~\\anaconda3\\lib\\site-packages\\scipy\\sparse\\base.py:480\u001b[0m, in \u001b[0;36mspmatrix.__mul__\u001b[1;34m(self, other)\u001b[0m\n\u001b[0;32m    478\u001b[0m     \u001b[38;5;28;01mif\u001b[39;00m \u001b[38;5;28mself\u001b[39m\u001b[38;5;241m.\u001b[39mshape[\u001b[38;5;241m1\u001b[39m] \u001b[38;5;241m!=\u001b[39m other\u001b[38;5;241m.\u001b[39mshape[\u001b[38;5;241m0\u001b[39m]:\n\u001b[0;32m    479\u001b[0m         \u001b[38;5;28;01mraise\u001b[39;00m \u001b[38;5;167;01mValueError\u001b[39;00m(\u001b[38;5;124m'\u001b[39m\u001b[38;5;124mdimension mismatch\u001b[39m\u001b[38;5;124m'\u001b[39m)\n\u001b[1;32m--> 480\u001b[0m     \u001b[38;5;28;01mreturn\u001b[39;00m \u001b[38;5;28;43mself\u001b[39;49m\u001b[38;5;241;43m.\u001b[39;49m\u001b[43m_mul_sparse_matrix\u001b[49m\u001b[43m(\u001b[49m\u001b[43mother\u001b[49m\u001b[43m)\u001b[49m\n\u001b[0;32m    482\u001b[0m \u001b[38;5;66;03m# If it's a list or whatever, treat it like a matrix\u001b[39;00m\n\u001b[0;32m    483\u001b[0m other_a \u001b[38;5;241m=\u001b[39m np\u001b[38;5;241m.\u001b[39masanyarray(other)\n",
      "File \u001b[1;32m~\\anaconda3\\lib\\site-packages\\scipy\\sparse\\compressed.py:518\u001b[0m, in \u001b[0;36m_cs_matrix._mul_sparse_matrix\u001b[1;34m(self, other)\u001b[0m\n\u001b[0;32m    513\u001b[0m idx_dtype \u001b[38;5;241m=\u001b[39m get_index_dtype((\u001b[38;5;28mself\u001b[39m\u001b[38;5;241m.\u001b[39mindptr, \u001b[38;5;28mself\u001b[39m\u001b[38;5;241m.\u001b[39mindices,\n\u001b[0;32m    514\u001b[0m                              other\u001b[38;5;241m.\u001b[39mindptr, other\u001b[38;5;241m.\u001b[39mindices),\n\u001b[0;32m    515\u001b[0m                             maxval\u001b[38;5;241m=\u001b[39mnnz)\n\u001b[0;32m    517\u001b[0m indptr \u001b[38;5;241m=\u001b[39m np\u001b[38;5;241m.\u001b[39mempty(major_axis \u001b[38;5;241m+\u001b[39m \u001b[38;5;241m1\u001b[39m, dtype\u001b[38;5;241m=\u001b[39midx_dtype)\n\u001b[1;32m--> 518\u001b[0m indices \u001b[38;5;241m=\u001b[39m \u001b[43mnp\u001b[49m\u001b[38;5;241;43m.\u001b[39;49m\u001b[43mempty\u001b[49m\u001b[43m(\u001b[49m\u001b[43mnnz\u001b[49m\u001b[43m,\u001b[49m\u001b[43m \u001b[49m\u001b[43mdtype\u001b[49m\u001b[38;5;241;43m=\u001b[39;49m\u001b[43midx_dtype\u001b[49m\u001b[43m)\u001b[49m\n\u001b[0;32m    519\u001b[0m data \u001b[38;5;241m=\u001b[39m np\u001b[38;5;241m.\u001b[39mempty(nnz, dtype\u001b[38;5;241m=\u001b[39mupcast(\u001b[38;5;28mself\u001b[39m\u001b[38;5;241m.\u001b[39mdtype, other\u001b[38;5;241m.\u001b[39mdtype))\n\u001b[0;32m    521\u001b[0m fn \u001b[38;5;241m=\u001b[39m \u001b[38;5;28mgetattr\u001b[39m(_sparsetools, \u001b[38;5;28mself\u001b[39m\u001b[38;5;241m.\u001b[39mformat \u001b[38;5;241m+\u001b[39m \u001b[38;5;124m'\u001b[39m\u001b[38;5;124m_matmat\u001b[39m\u001b[38;5;124m'\u001b[39m)\n",
      "\u001b[1;31mMemoryError\u001b[0m: Unable to allocate 679. MiB for an array with shape (177942018,) and data type int32"
     ]
    }
   ],
   "source": [
    "from sklearn.feature_extraction.text import TfidfVectorizer\n",
    "from sklearn.metrics.pairwise import cosine_similarity\n",
    "\n",
    "lyric_vectorizer = TfidfVectorizer(stop_words='english')\n",
    "lyrics_data = lyric_vectorizer.fit_transform(lyrics_data)\n",
    "lyric_similarity_matrix = cosine_similarity(lyrics_data)"
   ]
  },
  {
   "cell_type": "code",
   "execution_count": null,
   "id": "8d223196",
   "metadata": {},
   "outputs": [],
   "source": [
    "#Using euclidean distance for making energy and mood comparable"
   ]
  },
  {
   "cell_type": "code",
   "execution_count": null,
   "id": "dbbc6fa2",
   "metadata": {},
   "outputs": [],
   "source": [
    "from sklearn.metrics.pairwise import euclidean_distances\n",
    "\n",
    "energy_difference_matrix = euclidean_distances(energy_data)\n",
    "mood_difference_matrix = euclidean_distances(mood_data)"
   ]
  },
  {
   "cell_type": "code",
   "execution_count": null,
   "id": "496e6fed",
   "metadata": {},
   "outputs": [],
   "source": [
    "#Utility functions\n"
   ]
  },
  {
   "cell_type": "code",
   "execution_count": null,
   "id": "c1cdc1fc",
   "metadata": {},
   "outputs": [],
   "source": [
    "def sort_by_popularity(songs, descending=True):\n",
    "    if descending:\n",
    "        return songs.sort_values(by=['track_popularity'])[::-1]\n",
    "    else:\n",
    "        return songs.sort_values(by=['track_popularity'])\n",
    "\n",
    "\n",
    "def get_similar(track_index, count, comparison_matrix, select_smallest):\n",
    "    similar_songs_indexes = np.argsort(np.array(comparison_matrix[track_index]))\n",
    "    similar_songs_indexes = np.delete(similar_songs_indexes, np.where(similar_songs_indexes == track_index))\n",
    "    similar_songs_indexes = similar_songs_indexes[:count] if select_smallest else similar_songs_indexes[::-1][:count]\n",
    "    return data.iloc[similar_songs_indexes].copy()\n",
    "\n",
    "\n",
    "def songs_as_dict(songs, include_fields):\n",
    "    return songs[include_fields].to_dict(orient='index')\n",
    "\n",
    "\n",
    "def get_closest_n(track_index, count):\n",
    "    if track_index >= count//2 and track_index < songs_count-count//2:\n",
    "        return pd.concat([data.iloc[track_index-count//2 : track_index], data.iloc[track_index+1 : track_index+count//2+1]])\n",
    "    elif track_index < count//2:\n",
    "        return data.head(count+1).drop(track_index)\n",
    "    else:\n",
    "        return data.tail(count+1).drop(track_index)"
   ]
  },
  {
   "cell_type": "code",
   "execution_count": null,
   "id": "b64ab5c9",
   "metadata": {},
   "outputs": [],
   "source": [
    "#Getters for recommendation subsystems"
   ]
  },
  {
   "cell_type": "code",
   "execution_count": null,
   "id": "c7d86dee",
   "metadata": {},
   "outputs": [],
   "source": [
    "def get_by_same_artist(track_index, count):\n",
    "    return data[data['track_artist'] == data.iloc[track_index]['track_artist']].drop(track_index)[:count]\n",
    "\n",
    "\n",
    "def get_lyrically_similar(track_index, count):\n",
    "    return get_similar(track_index, count, lyric_similarity_matrix, False)\n",
    "\n",
    "\n",
    "def get_energy_similar(track_index, count):\n",
    "    return get_similar(track_index, count, energy_difference_matrix, True)\n",
    "\n",
    "\n",
    "def get_mood_similar(track_index, count):\n",
    "    return get_similar(track_index, count, mood_difference_matrix, True)\n",
    "\n",
    "\n",
    "def get_random(count):\n",
    "    return data.sample(count)\n",
    "\n",
    "\n",
    "def get_released_around_same_time(track_index, count):\n",
    "    return get_closest_n(track_index, count)"
   ]
  },
  {
   "cell_type": "code",
   "execution_count": null,
   "id": "ae96fb82",
   "metadata": {},
   "outputs": [],
   "source": [
    "def recommend_by_same_artist(track_index, count, prioritisePopular):\n",
    "    songs_by_same_artist = get_by_same_artist(track_index, count)\n",
    "    songs_by_same_artist['recommendation_type'] = 'by same artist'\n",
    "    return sort_by_popularity(songs_by_same_artist, prioritisePopular)\n",
    "\n",
    "\n",
    "def recommend_lyrically_similar(track_index, count, prioritisePopular):\n",
    "    similar_songs = get_lyrically_similar(track_index, count)\n",
    "    similar_songs['recommendation_type'] = 'lyrically similar'\n",
    "    return sort_by_popularity(similar_songs, prioritisePopular)\n",
    "\n",
    "\n",
    "def recommend_energy_similar(track_index, count, prioritisePopular):\n",
    "    similar_songs = get_energy_similar(track_index, count)\n",
    "    similar_songs['recommendation_type'] = 'similar energy'\n",
    "    return sort_by_popularity(similar_songs, prioritisePopular)\n",
    "\n",
    "\n",
    "def recommend_mood_similar(track_index, count, prioritisePopular):\n",
    "    similar_songs = get_mood_similar(track_index, count)\n",
    "    similar_songs['recommendation_type'] = 'similar mood'\n",
    "    return sort_by_popularity(similar_songs, prioritisePopular)\n",
    "\n",
    "\n",
    "def recommend_released_around_same_time(track_index, count, prioritisePopular):\n",
    "    contemporary_songs = get_released_around_same_time(track_index, count)\n",
    "    contemporary_songs['recommendation_type'] = 'released around same time'\n",
    "    return sort_by_popularity(contemporary_songs, prioritisePopular)\n",
    "\n",
    "\n",
    "def recommend_random(count, prioritisePopular):\n",
    "    random_songs = get_random(count)\n",
    "    random_songs['recommendation_type'] = 'random'\n",
    "    return sort_by_popularity(random_songs, prioritisePopular)"
   ]
  },
  {
   "cell_type": "code",
   "execution_count": null,
   "id": "3b616a9c",
   "metadata": {},
   "outputs": [],
   "source": [
    "#Recommendation Subsystem"
   ]
  },
  {
   "cell_type": "code",
   "execution_count": null,
   "id": "6aa0a15f",
   "metadata": {},
   "outputs": [],
   "source": [
    "def recommend_by_same_artist(track_index, count, prioritisePopular):\n",
    "    songs_by_same_artist = get_by_same_artist(track_index, count)\n",
    "    songs_by_same_artist['recommendation_type'] = 'by same artist'\n",
    "    return sort_by_popularity(songs_by_same_artist, prioritisePopular)\n",
    "\n",
    "\n",
    "def recommend_lyrically_similar(track_index, count, prioritisePopular):\n",
    "    similar_songs = get_lyrically_similar(track_index, count)\n",
    "    similar_songs['recommendation_type'] = 'lyrically similar'\n",
    "    return sort_by_popularity(similar_songs, prioritisePopular)\n",
    "\n",
    "\n",
    "def recommend_energy_similar(track_index, count, prioritisePopular):\n",
    "    similar_songs = get_energy_similar(track_index, count)\n",
    "    similar_songs['recommendation_type'] = 'similar energy'\n",
    "    return sort_by_popularity(similar_songs, prioritisePopular)\n",
    "\n",
    "\n",
    "def recommend_mood_similar(track_index, count, prioritisePopular):\n",
    "    similar_songs = get_mood_similar(track_index, count)\n",
    "    similar_songs['recommendation_type'] = 'similar mood'\n",
    "    return sort_by_popularity(similar_songs, prioritisePopular)\n",
    "\n",
    "\n",
    "def recommend_released_around_same_time(track_index, count, prioritisePopular):\n",
    "    contemporary_songs = get_released_around_same_time(track_index, count)\n",
    "    contemporary_songs['recommendation_type'] = 'released around same time'\n",
    "    return sort_by_popularity(contemporary_songs, prioritisePopular)\n",
    "\n",
    "\n",
    "def recommend_random(count, prioritisePopular):\n",
    "    random_songs = get_random(count)\n",
    "    random_songs['recommendation_type'] = 'random'\n",
    "    return sort_by_popularity(random_songs, prioritisePopular)"
   ]
  },
  {
   "cell_type": "code",
   "execution_count": null,
   "id": "30c3643e",
   "metadata": {},
   "outputs": [],
   "source": [
    "# testing / visualization\n",
    "data[data['track_artist'] == 'Taylor Swift']\n",
    "\n",
    "# data.iloc[2274]\n",
    "\n",
    "# sb.displot(data=data, x='track_album_release_date')\n",
    "# data[data['track_artist'] == 'Queen'].head(30)\n",
    "# sonic_data.describe()\n",
    "\n",
    "# data['track_artist'].value_counts()"
   ]
  },
  {
   "cell_type": "code",
   "execution_count": null,
   "id": "86e983f3",
   "metadata": {},
   "outputs": [],
   "source": []
  }
 ],
 "metadata": {
  "kernelspec": {
   "display_name": "Python 3 (ipykernel)",
   "language": "python",
   "name": "python3"
  },
  "language_info": {
   "codemirror_mode": {
    "name": "ipython",
    "version": 3
   },
   "file_extension": ".py",
   "mimetype": "text/x-python",
   "name": "python",
   "nbconvert_exporter": "python",
   "pygments_lexer": "ipython3",
   "version": "3.9.12"
  }
 },
 "nbformat": 4,
 "nbformat_minor": 5
}
